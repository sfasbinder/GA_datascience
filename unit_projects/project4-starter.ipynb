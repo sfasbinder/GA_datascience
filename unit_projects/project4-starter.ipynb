{
 "cells": [
  {
   "cell_type": "markdown",
   "metadata": {},
   "source": [
    "# Project 4\n",
    "\n",
    "In this project, you will summarize and present your analysis from Projects 1-3."
   ]
  },
  {
   "cell_type": "markdown",
   "metadata": {},
   "source": [
    "### Intro: Write a problem Statement/ Specific Aim for this project"
   ]
  },
  {
   "cell_type": "markdown",
   "metadata": {},
   "source": [
    "Answer: Determine if the prestige of the students undergraduate institution has any affect on their acceptance using one years admission data provided by UCLA."
   ]
  },
  {
   "cell_type": "markdown",
   "metadata": {},
   "source": [
    "### Dataset:  Write up a description of your data and any cleaning that was completed"
   ]
  },
  {
   "cell_type": "markdown",
   "metadata": {},
   "source": [
    "Answer: The original data had 4 columns (admit: whether the student was admitted, boolean, GPA: Student undergrad gpa, continuous, GRE: students GRE test score, continuous, and Prestige: scale of 1-4 of undergraduate prestige, categorical).\n",
    "\n",
    "The data cleaning invlovled removing any row with a NA, NAN, NULL. The Prestige column, since categorical, was dummied out to boolean values for each level of the original. "
   ]
  },
  {
   "cell_type": "markdown",
   "metadata": {
    "collapsed": true
   },
   "source": [
    "### Demo: Provide a table that explains the data by admission status"
   ]
  },
  {
   "cell_type": "markdown",
   "metadata": {},
   "source": [
    "Mean (STD) or counts by admission status for each variable \n",
    "\n",
    "| Not Admitted | Admitted\n",
    "---| ---|---\n",
    "GPA | 3.35(0.38)  | 3.49(0.37)\n",
    "GRE |573.58(116.05) | 618.57(109.26)\n",
    "Prestige 1 | 28 (45.90%) | 33 (54.1%)\n",
    "Prestige 2 | 95 (74.22%) | 53 (25.79%)\n",
    "Prestige 3 |93 (76.86%) | 28 (23.14%)\n",
    "Prestige 4 |55 (82.09%) | 12 (17.91%)"
   ]
  },
  {
   "cell_type": "markdown",
   "metadata": {},
   "source": [
    "### Methods: Write up the methods used in your analysis"
   ]
  },
  {
   "cell_type": "markdown",
   "metadata": {},
   "source": [
    "Answer: \n",
    "We examined the distributions and the make up of the data using histograms and the describe function\n",
    "\n",
    "First found the probability and odds of being addmitted for each prestige level. Once we had the ratio of prestige 1 to all other prestige odds of being admitted we calculated the odds ration of being admitted with a prestige 1 undergrad institution compared to 2-4.\n",
    "\n",
    "Since what we wanted to predict was binary (admitted / not admitted) we made the categorical variable (prestige) binary, seperating each level into their own yes/no column. Once this was done we preformed logarithmic regression for admitted. \n",
    "\n",
    "To check the accuracy of our result we created a cross tab of the actual outcome and the predicted outcome. Moving our analysis accordingly. \n",
    "\n",
    "To verify our results we created a control data frame accounting for all possible inputs and runnning our model to predict the outcome, seeing if it followed with out assumptions. "
   ]
  },
  {
   "cell_type": "markdown",
   "metadata": {},
   "source": [
    "### Results: Write up your results"
   ]
  },
  {
   "cell_type": "markdown",
   "metadata": {},
   "source": [
    "Answer: I found that the prestige of the alma mater was the most influential component in determinging if the student was admitted. When we controlled for GRE and GPA the student with the high prestige almamater had a higher likely hood of admittance. "
   ]
  },
  {
   "cell_type": "markdown",
   "metadata": {},
   "source": [
    "### Visuals: Provide a table or visualization of these results"
   ]
  },
  {
   "cell_type": "markdown",
   "metadata": {},
   "source": [
    "\n",
    "gre| gpa| prestige|\tintercept| prestige_2| prestige_3| prestige_4| admit_predict| prediction\n",
    "---|---|---|---|---|---|---|---\n",
    "396| 800.0|\t4.000000| 1.0| 1.0| 0.0| 0.0| 0.0| 0.734040\n",
    "397| 800.0|\t4.000000| 2.0| 1.0| 1.0| 0.0| 0.0| 0.582995\n",
    "398| 800.0|\t4.000000| 3.0| 1.0| 0.0| 1.0| 0.0| 0.419833\n",
    "399| 800.0|\t4.000000| 4.0| 1.0| 0.0| 0.0| 1.0| 0.368608"
   ]
  },
  {
   "cell_type": "markdown",
   "metadata": {},
   "source": [
    "### Discussion: Write up your discussion and future steps"
   ]
  },
  {
   "cell_type": "markdown",
   "metadata": {},
   "source": [
    "Answer: Additionaly analysis we can perform us using a decision tree to visualize all prestige levels not just the prediction of the highest prestige level. Once we visualize the data we can run the decision tree multiple times (random forest). "
   ]
  }
 ],
 "metadata": {
  "kernelspec": {
   "display_name": "Python [Root]",
   "language": "python",
   "name": "Python [Root]"
  },
  "language_info": {
   "codemirror_mode": {
    "name": "ipython",
    "version": 2
   },
   "file_extension": ".py",
   "mimetype": "text/x-python",
   "name": "python",
   "nbconvert_exporter": "python",
   "pygments_lexer": "ipython2",
   "version": "2.7.12"
  }
 },
 "nbformat": 4,
 "nbformat_minor": 0
}
